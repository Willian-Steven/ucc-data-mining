{
 "cells": [
  {
   "cell_type": "code",
   "execution_count": 4,
   "id": "d520ea6d-a752-48d4-8c18-c0b6a3af3f77",
   "metadata": {},
   "outputs": [
    {
     "data": {
      "text/plain": [
       "['wifi_prediction_model.pkl']"
      ]
     },
     "execution_count": 4,
     "metadata": {},
     "output_type": "execute_result"
    }
   ],
   "source": [
    "import pandas as pd\n",
    "from sklearn.model_selection import train_test_split\n",
    "from sklearn.ensemble import RandomForestClassifier\n",
    "import joblib\n",
    "\n",
    "# Paso 1: Cargar los datos\n",
    "data = pd.read_csv('dataWiFi.csv')\n",
    "\n",
    "# Paso 2: Preprocesamiento de datos\n",
    "# No parece haber ninguna columna innecesaria, pero podrías necesitar más preprocesamiento dependiendo de tu conjunto de datos.\n",
    "\n",
    "# Dividir los datos en características (X) y etiquetas (y)\n",
    "X = data.drop(columns=['MONTH'])  # Quitamos la columna de mes ya que no la necesitamos como característica\n",
    "y = data['MONTH']\n",
    "\n",
    "# Dividir los datos en conjuntos de entrenamiento y prueba\n",
    "X_train, X_test, y_train, y_test = train_test_split(X, y, test_size=0.2, random_state=42)\n",
    "\n",
    "# Paso 3: Entrenamiento del modelo\n",
    "model = RandomForestClassifier()\n",
    "model.fit(X_train, y_train)\n",
    "\n",
    "# Paso 4: Evaluación del modelo (opcional)\n",
    "# Esto es opcional ya que estás creando una API, pero puedes evaluar el modelo si lo deseas.\n",
    "\n",
    "# Paso 5: Guardar el modelo entrenado\n",
    "joblib.dump(model, 'wifi_prediction_model.pkl')\n"
   ]
  },
  {
   "cell_type": "code",
   "execution_count": 16,
   "id": "32d667bb-2813-4905-83ac-eaa45e5680ca",
   "metadata": {},
   "outputs": [],
   "source": [
    "from fastapi import FastAPI, HTTPException\n",
    "from pydantic import BaseModel\n",
    "import joblib\n",
    "import pandas as pd\n",
    "\n",
    "# Paso 1: Cargar el modelo entrenado\n",
    "model = joblib.load('wifi_prediction_model.pkl')\n",
    "\n",
    "# Paso 2: Definir los modelos de datos para la entrada y salida de la API\n",
    "class WiFiDataInput(BaseModel):\n",
    "    MONTH: str\n",
    "    YEAR: int\n",
    "    NUMBER_OF_SESSIONS: int\n",
    "    CUMULATIVE_NUMBER_OF_SESSIONS: int\n",
    "\n",
    "class WiFiDataOutput(BaseModel):\n",
    "    PREDICTION: str\n",
    "\n",
    "# Paso 3: Inicializar la aplicación FastAPI\n",
    "app = FastAPI()\n",
    "\n",
    "# Paso 4: Definir el endpoint para hacer predicciones con los datos de WiFi\n",
    "@app.post('/predict_wifi/')\n",
    "async def predict_wifi(data: WiFiDataInput):\n",
    "    try:\n",
    "        # Convertir los datos de entrada en un DataFrame\n",
    "        input_data = pd.DataFrame([data.dict()])\n",
    "        print(prediction)\n",
    "        print(input_data)\n",
    "        # Hacer la predicción\n",
    "        prediction = model.predict(input_data)\n",
    "\n",
    "        return WiFiDataOutput(PREDICTION=prediction[0])\n",
    "    except Exception as e:\n",
    "        raise HTTPException(status_code=500, detail=\"Error en la predicción: {}\".format(str(e)))\n",
    "\n"
   ]
  },
  {
   "cell_type": "code",
   "execution_count": 19,
   "id": "2c32e00f-d3de-46ea-941f-6a6d2f8499fb",
   "metadata": {},
   "outputs": [
    {
     "name": "stdout",
     "output_type": "stream",
     "text": [
      "LinearRegression()\n"
     ]
    }
   ],
   "source": [
    "import joblib\n",
    "model = joblib.load('wifi_prediction_model.pkl')\n",
    "print(model)"
   ]
  },
  {
   "cell_type": "code",
   "execution_count": 20,
   "id": "50e18de9-68c0-4b71-9a6a-b26e5471d399",
   "metadata": {},
   "outputs": [
    {
     "name": "stdout",
     "output_type": "stream",
     "text": [
      "['YEAR' 'NUMBER OF SESSIONS' 'CUMULATIVE NUMBER OF SESSIONS']\n"
     ]
    }
   ],
   "source": [
    "import pickle\n",
    "\n",
    "# Cargar el objeto desde el archivo .pkl\n",
    "with open('wifi_prediction_model.pkl', 'rb') as f:\n",
    "    objeto = pickle.load(f)\n",
    "\n",
    "# Ahora puedes examinar el objeto\n",
    "print(objeto)\n"
   ]
  },
  {
   "cell_type": "code",
   "execution_count": 21,
   "id": "0fc0d045-45a1-4bba-8d33-561cf9bbf55f",
   "metadata": {},
   "outputs": [
    {
     "name": "stdout",
     "output_type": "stream",
     "text": [
      "Requirement already satisfied: requests in /opt/conda/lib/python3.11/site-packages (2.31.0)\n",
      "Requirement already satisfied: charset-normalizer<4,>=2 in /opt/conda/lib/python3.11/site-packages (from requests) (3.3.0)\n",
      "Requirement already satisfied: idna<4,>=2.5 in /opt/conda/lib/python3.11/site-packages (from requests) (3.4)\n",
      "Requirement already satisfied: urllib3<3,>=1.21.1 in /opt/conda/lib/python3.11/site-packages (from requests) (2.0.7)\n",
      "Requirement already satisfied: certifi>=2017.4.17 in /opt/conda/lib/python3.11/site-packages (from requests) (2023.7.22)\n",
      "Note: you may need to restart the kernel to use updated packages.\n"
     ]
    }
   ],
   "source": [
    "pip install requests\n"
   ]
  },
  {
   "cell_type": "code",
   "execution_count": 22,
   "id": "208870ff-4011-4aa5-bbca-cbbab2cfa382",
   "metadata": {},
   "outputs": [
    {
     "name": "stdout",
     "output_type": "stream",
     "text": [
      "{'detail': [{'type': 'model_attributes_type', 'loc': ['body'], 'msg': 'Input should be a valid dictionary or object to extract fields from', 'input': '[{\"MONTH\":\"January\",\"YEAR\":2011,\"NUMBER OF SESSIONS\":22263,\"CUMULATIVE NUMBER OF SESSIONS\":22263},{\"MONTH\":\"February\",\"YEAR\":2011,\"NUMBER OF SESSIONS\":19657,\"CUMULATIVE NUMBER OF SESSIONS\":41920},{\"MONTH\":\"March\",\"YEAR\":2011,\"NUMBER OF SESSIONS\":24506,\"CUMULATIVE NUMBER OF SESSIONS\":66426},{\"MONTH\":\"April\",\"YEAR\":2011,\"NUMBER OF SESSIONS\":23998,\"CUMULATIVE NUMBER OF SESSIONS\":90424},{\"MONTH\":\"May\",\"YEAR\":2011,\"NUMBER OF SESSIONS\":23242,\"CUMULATIVE NUMBER OF SESSIONS\":113666},{\"MONTH\":\"June\",\"YEAR\":2011,\"NUMBER OF SESSIONS\":26044,\"CUMULATIVE NUMBER OF SESSIONS\":139710},{\"MONTH\":\"July\",\"YEAR\":2011,\"NUMBER OF SESSIONS\":27735,\"CUMULATIVE NUMBER OF SESSIONS\":167445},{\"MONTH\":\"August\",\"YEAR\":2011,\"NUMBER OF SESSIONS\":33934,\"CUMULATIVE NUMBER OF SESSIONS\":201379},{\"MONTH\":\"September\",\"YEAR\":2011,\"NUMBER OF SESSIONS\":32714,\"CUMULATIVE NUMBER OF SESSIONS\":234093},{\"MONTH\":\"October\",\"YEAR\":2011,\"NUMBER OF SESSIONS\":34760,\"CUMULATIVE NUMBER OF SESSIONS\":268853},{\"MONTH\":\"November\",\"YEAR\":2011,\"NUMBER OF SESSIONS\":33535,\"CUMULATIVE NUMBER OF SESSIONS\":302388},{\"MONTH\":\"December\",\"YEAR\":2011,\"NUMBER OF SESSIONS\":31842,\"CUMULATIVE NUMBER OF SESSIONS\":334230},{\"MONTH\":\"January\",\"YEAR\":2012,\"NUMBER OF SESSIONS\":33089,\"CUMULATIVE NUMBER OF SESSIONS\":367319},{\"MONTH\":\"February\",\"YEAR\":2012,\"NUMBER OF SESSIONS\":34428,\"CUMULATIVE NUMBER OF SESSIONS\":401747},{\"MONTH\":\"March\",\"YEAR\":2012,\"NUMBER OF SESSIONS\":38230,\"CUMULATIVE NUMBER OF SESSIONS\":439977},{\"MONTH\":\"April\",\"YEAR\":2012,\"NUMBER OF SESSIONS\":39164,\"CUMULATIVE NUMBER OF SESSIONS\":479141},{\"MONTH\":\"May\",\"YEAR\":2012,\"NUMBER OF SESSIONS\":39272,\"CUMULATIVE NUMBER OF SESSIONS\":518413},{\"MONTH\":\"June\",\"YEAR\":2012,\"NUMBER OF SESSIONS\":40431,\"CUMULATIVE NUMBER OF SESSIONS\":558844},{\"MONTH\":\"July\",\"YEAR\":2012,\"NUMBER OF SESSIONS\":46069,\"CUMULATIVE NUMBER OF SESSIONS\":604913},{\"MONTH\":\"August\",\"YEAR\":2012,\"NUMBER OF SESSIONS\":50608,\"CUMULATIVE NUMBER OF SESSIONS\":655521},{\"MONTH\":\"September\",\"YEAR\":2012,\"NUMBER OF SESSIONS\":49951,\"CUMULATIVE NUMBER OF SESSIONS\":705472},{\"MONTH\":\"October\",\"YEAR\":2012,\"NUMBER OF SESSIONS\":53894,\"CUMULATIVE NUMBER OF SESSIONS\":759366},{\"MONTH\":\"November\",\"YEAR\":2012,\"NUMBER OF SESSIONS\":55583,\"CUMULATIVE NUMBER OF SESSIONS\":814949},{\"MONTH\":\"December\",\"YEAR\":2012,\"NUMBER OF SESSIONS\":53593,\"CUMULATIVE NUMBER OF SESSIONS\":868542},{\"MONTH\":\"January\",\"YEAR\":2013,\"NUMBER OF SESSIONS\":50927,\"CUMULATIVE NUMBER OF SESSIONS\":919469},{\"MONTH\":\"February\",\"YEAR\":2013,\"NUMBER OF SESSIONS\":48984,\"CUMULATIVE NUMBER OF SESSIONS\":968453},{\"MONTH\":\"March\",\"YEAR\":2013,\"NUMBER OF SESSIONS\":69759,\"CUMULATIVE NUMBER OF SESSIONS\":1038212},{\"MONTH\":\"April\",\"YEAR\":2013,\"NUMBER OF SESSIONS\":114109,\"CUMULATIVE NUMBER OF SESSIONS\":1152321},{\"MONTH\":\"May\",\"YEAR\":2013,\"NUMBER OF SESSIONS\":113753,\"CUMULATIVE NUMBER OF SESSIONS\":1266074},{\"MONTH\":\"June\",\"YEAR\":2013,\"NUMBER OF SESSIONS\":135646,\"CUMULATIVE NUMBER OF SESSIONS\":1401720},{\"MONTH\":\"July\",\"YEAR\":2013,\"NUMBER OF SESSIONS\":146590,\"CUMULATIVE NUMBER OF SESSIONS\":1548310},{\"MONTH\":\"August\",\"YEAR\":2013,\"NUMBER OF SESSIONS\":117172,\"CUMULATIVE NUMBER OF SESSIONS\":1665482},{\"MONTH\":\"September\",\"YEAR\":2013,\"NUMBER OF SESSIONS\":161535,\"CUMULATIVE NUMBER OF SESSIONS\":1827017},{\"MONTH\":\"October\",\"YEAR\":2013,\"NUMBER OF SESSIONS\":182595,\"CUMULATIVE NUMBER OF SESSIONS\":2009612},{\"MONTH\":\"November\",\"YEAR\":2013,\"NUMBER OF SESSIONS\":186981,\"CUMULATIVE NUMBER OF SESSIONS\":2196593},{\"MONTH\":\"December\",\"YEAR\":2013,\"NUMBER OF SESSIONS\":178934,\"CUMULATIVE NUMBER OF SESSIONS\":2375527},{\"MONTH\":\"January\",\"YEAR\":2014,\"NUMBER OF SESSIONS\":195108,\"CUMULATIVE NUMBER OF SESSIONS\":2570635},{\"MONTH\":\"February\",\"YEAR\":2014,\"NUMBER OF SESSIONS\":195439,\"CUMULATIVE NUMBER OF SESSIONS\":2766074},{\"MONTH\":\"March\",\"YEAR\":2014,\"NUMBER OF SESSIONS\":239094,\"CUMULATIVE NUMBER OF SESSIONS\":3005168},{\"MONTH\":\"April\",\"YEAR\":2014,\"NUMBER OF SESSIONS\":256150,\"CUMULATIVE NUMBER OF SESSIONS\":3261318},{\"MONTH\":\"May\",\"YEAR\":2014,\"NUMBER OF SESSIONS\":242929,\"CUMULATIVE NUMBER OF SESSIONS\":3504247},{\"MONTH\":\"June\",\"YEAR\":2014,\"NUMBER OF SESSIONS\":255340,\"CUMULATIVE NUMBER OF SESSIONS\":3759587},{\"MONTH\":\"July\",\"YEAR\":2014,\"NUMBER OF SESSIONS\":284100,\"CUMULATIVE NUMBER OF SESSIONS\":4043687},{\"MONTH\":\"August\",\"YEAR\":2014,\"NUMBER OF SESSIONS\":267902,\"CUMULATIVE NUMBER OF SESSIONS\":4311589},{\"MONTH\":\"September\",\"YEAR\":2014,\"NUMBER OF SESSIONS\":279657,\"CUMULATIVE NUMBER OF SESSIONS\":4591246},{\"MONTH\":\"October\",\"YEAR\":2014,\"NUMBER OF SESSIONS\":301092,\"CUMULATIVE NUMBER OF SESSIONS\":4892338},{\"MONTH\":\"November\",\"YEAR\":2014,\"NUMBER OF SESSIONS\":265207,\"CUMULATIVE NUMBER OF SESSIONS\":5157545},{\"MONTH\":\"December \",\"YEAR\":2014,\"NUMBER OF SESSIONS\":264618,\"CUMULATIVE NUMBER OF SESSIONS\":5422163}]'}]}\n"
     ]
    }
   ],
   "source": [
    "import requests\n",
    "import pandas as pd\n",
    "\n",
    "# Cargar los datos del archivo CSV\n",
    "data = pd.read_csv('dataWiFi.csv')\n",
    "\n",
    "# Convertir los datos a formato JSON\n",
    "data_json = data.to_json(orient='records')\n",
    "\n",
    "# URL de tu API FastAPI\n",
    "url = 'http://127.0.0.1:8000/predict_wifi/'\n",
    "\n",
    "# Enviar una solicitud POST a la API con los datos del archivo CSV\n",
    "response = requests.post(url, json=data_json)\n",
    "\n",
    "# Imprimir la respuesta de la API\n",
    "print(response.json())\n"
   ]
  },
  {
   "cell_type": "code",
   "execution_count": 24,
   "id": "7d7ff971-e0ee-4b78-8b26-2b8deb272fee",
   "metadata": {},
   "outputs": [],
   "source": [
    "from fastapi import FastAPI, HTTPException\n",
    "from pydantic import BaseModel\n",
    "import joblib\n",
    "import pandas as pd\n",
    "\n",
    "# Paso 1: Cargar el modelo entrenado\n",
    "model = joblib.load('wifi_prediction_model.pkl')\n",
    "\n",
    "# Paso 2: Definir los modelos de datos para la entrada y salida de la API\n",
    "class WiFiDataInput(BaseModel):\n",
    "    YEAR: int\n",
    "    NUMBER_OF_SESSIONS: int\n",
    "    CUMULATIVE_NUMBER_OF_SESSIONS: int\n",
    "\n",
    "\n",
    "class WiFiDataOutput(BaseModel):\n",
    "    PREDICTION: str\n",
    "\n",
    "# Paso 3: Inicializar la aplicación FastAPI\n",
    "app = FastAPI()\n",
    "\n",
    "\n",
    "# Paso 4: Definir el endpoint para hacer predicciones con los datos de WiFi\n",
    "@app.post('/predict_wifi/')\n",
    "async def predict_wifi(data: WiFiDataInput):\n",
    "    try:\n",
    "        # Convertir los datos de entrada en un DataFrame\n",
    "        input_data = pd.DataFrame([data.dict()])\n",
    "\n",
    "        # Imprimir los datos de entrada\n",
    "        print(\"Datos de entrada:\")\n",
    "        print(input_data)\n",
    "\n",
    "        # Hacer la predicción\n",
    "        prediction = model.predict(input_data)\n",
    "\n",
    "        # Imprimir la predicción\n",
    "        print(\"Predicción:\")\n",
    "        print(prediction)\n",
    "\n",
    "        return WiFiDataOutput(PREDICTION=prediction[0])\n",
    "    except Exception as e:\n",
    "        raise HTTPException(status_code=500, detail=\"Error en la predicción: {}\".format(str(e)))\n"
   ]
  },
  {
   "cell_type": "code",
   "execution_count": 25,
   "id": "f852b665-33a9-41a8-b86e-4c9ad5fbd715",
   "metadata": {},
   "outputs": [
    {
     "name": "stdout",
     "output_type": "stream",
     "text": [
      "Requirement already satisfied: uvicorn in /opt/conda/lib/python3.11/site-packages (0.29.0)\n",
      "Requirement already satisfied: click>=7.0 in /opt/conda/lib/python3.11/site-packages (from uvicorn) (8.1.7)\n",
      "Requirement already satisfied: h11>=0.8 in /opt/conda/lib/python3.11/site-packages (from uvicorn) (0.14.0)\n",
      "Note: you may need to restart the kernel to use updated packages.\n"
     ]
    }
   ],
   "source": [
    "pip install uvicorn"
   ]
  },
  {
   "cell_type": "code",
   "execution_count": null,
   "id": "9cc77772-25c5-4929-952f-2fab57a6b7a2",
   "metadata": {},
   "outputs": [],
   "source": []
  }
 ],
 "metadata": {
  "kernelspec": {
   "display_name": "Python 3 (ipykernel)",
   "language": "python",
   "name": "python3"
  },
  "language_info": {
   "codemirror_mode": {
    "name": "ipython",
    "version": 3
   },
   "file_extension": ".py",
   "mimetype": "text/x-python",
   "name": "python",
   "nbconvert_exporter": "python",
   "pygments_lexer": "ipython3",
   "version": "3.11.6"
  }
 },
 "nbformat": 4,
 "nbformat_minor": 5
}
